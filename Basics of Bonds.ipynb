{
 "cells": [
  {
   "cell_type": "markdown",
   "metadata": {},
   "source": [
    "### Types of Bonds"
   ]
  },
  {
   "cell_type": "markdown",
   "metadata": {},
   "source": [
    "Tenor - time remaining until the bond's maturity"
   ]
  },
  {
   "cell_type": "markdown",
   "metadata": {},
   "source": [
    "#### Basic Definitions\n",
    "\n",
    "coupon rate - interest rate that issue agrees to pay\n",
    "\n",
    "plain vanilla bond - cash flow pattern, and a fixed rate of interest\n",
    "\n",
    "* bonds can be issued in dual currencies. \n",
    "\n",
    "bond indenture or trust deed is the legal contract that describes the form of the bond, and the issuer's obligations and investor's rights. The indenture is usually held by a trustee. \n",
    "\n",
    "yield to maturity is the discount rate that equates the present value of the future cash flows until maturity ot its price. YTM market expectation of the bond's return\n",
    "\n",
    "bond indenture or trust deed is the legal contract that describes the form of the bond, the issuer's obligations and the investor's rights. The indenture is usually held by a financila institution called a trustree which performs various duties specified in the indenture. \n",
    "\n",
    "The issuer is identified by its legal name and is obligated to make timely payments of interest. \n",
    "\n",
    "Repay the principal should be described in the indenture, the source of repayment proceeds varies. \n",
    "\n",
    "#### Managing Risk\n",
    "\n",
    "Collateral backing is a way to alleviate credit risk. \n",
    "\n",
    "Credit enhancement can help make the bond safer. For example, they can overcollaterilize the bonds, and the suboridination of debt. \n",
    "\n",
    "#### Issuances and Trading \n",
    "\n",
    "Eurobonds are issued in a foreign and domestic market\n",
    "\n",
    "#### Cashflows \n",
    "\n",
    "Amortizing bond - periodic interest payments and part of the principal\n",
    "\n",
    "bullet - all principal at the end \n",
    "\n",
    "sinking fund agreements - periodic retirement of principal through the bond's life or after a specific date. \n",
    "\n",
    "floater (FRN) - coupon is set on a reference rate. They can be floored, capped or collared. Inverse FRNs have inverse relationships to a reference rate.\n",
    "\n",
    "step-up coupons - increase on coupon on a specified date\n",
    "\n",
    "credit linked coupons - change in coupon when bond rating changes\n",
    "\n",
    "deferred coupons - defer coupons for some period in time \n",
    "\n",
    "index-linked bonds - couponr or principal repayment are linked to a price index. \n",
    "\n",
    "\n"
   ]
  },
  {
   "cell_type": "markdown",
   "metadata": {},
   "source": [
    "#### Contingency provisions \n",
    "\n",
    "callable bonds - give the issuer the ability to buy the bonds, which raise the reinvestment risk for the bondholder. For this reason callable bonds have to offer a higher yield and sell at a lower price than otherwise similar non-callable bonds. higher yield, lower price. \n",
    "\n",
    "putable bonds - bondholder the right to sell bonds back to the issuer prior to maturity. lower yield because they have to compensate the issuer for the value of the put option to the bond holder. higher price, lower yield.  \n",
    "\n",
    "convertible bond - convert the bond into common shares, lower yield, higher price. "
   ]
  },
  {
   "cell_type": "markdown",
   "metadata": {},
   "source": [
    "### Issuance, Trading and Funding\n",
    "\n",
    "#### Credit quality based classification\n",
    "\n",
    "BAA3 or above, BBB by S&P are considered to be investment grade. Else - high yield, speculative or junk \n",
    "\n",
    "Money market - original maturity ranging from overnight to one year are issued and traded, capital markets longer than 1 year are traded\n",
    "\n",
    "Reference rate in floating-rate debt - reference rate plus a spead. The most widely used rate is Libor \n",
    "\n",
    "Interbank offered rates - floating rate bonds but also other debt instruments including mortgages\n",
    "\n",
    "largest investors - is central banks\n",
    "\n",
    "Fixed income indicies are used by investors and investment managers to describe bond markets or sectors and to evaluate performance of investments\n",
    "\n",
    "Foreign bond - issued by a foreign entity into a domestic market \n",
    "\n",
    "Eurobond - outisde the jurisdiction of the country in which currency the bond is denominated.\n",
    "\n",
    "#### Short term funding alternatives \n",
    "medium-term notes - offered continuously to investors by agent of the issuer. \n",
    "\n",
    "Financial institutions have access to additional sources of funds - retail deposits, central bank funds, interbank funds, CDs, are all sources of funds. \n",
    "\n",
    "commerical paper as a source of interim financing for long-term projects until permanent financing can be arranged. \n",
    "\n",
    "Can buy and sell commercial paper\n",
    "\n",
    "#### REPO\n",
    "\n",
    "REPO - collateralized loan where the security sold and repurchased represents the collateral posted \n",
    "\n",
    "repurchase agreement involves the sale of security, \n"
   ]
  },
  {
   "cell_type": "markdown",
   "metadata": {},
   "source": [
    "### Introduction to fixed income valuation\n",
    "\n",
    "discounted cash flows\n",
    "\n",
    "complexity of pricing depends on the particular bond's feature and rates\n",
    "\n",
    "priced at a premium above par value when coupon rate is greater than the market discount rate. \n",
    "\n",
    "discount when coupon rate is lower than the market discount rate. \n",
    "\n",
    "internal rate of return on the cash flows. \n",
    "\n",
    "A bond price moves inversely with the market discount rate.\n",
    "\n",
    "YTM \n",
    "* holds the bond to maturity, issuer makes all the payments, reinvests the coupon mayments at the same yield. This is characteristic of an internal rate of return. \n",
    "* price change is greater when the market rate goes down than when it goes up (convexity effect). \n",
    "* For the same time-to-maturity, a lower-coupon bond has a greater percenate price change than a higher-coupon bond when their market "
   ]
  },
  {
   "cell_type": "markdown",
   "metadata": {},
   "source": [
    "#### Constant-yield price trajectory \n",
    "\n",
    "As time passes, the price of the bond approaches its par value. The par value is the face value of a bond. \n",
    "\n",
    "convex relationship between bond price and discount rate. \n",
    "\n",
    "lower-coupon bond is more volatile than the price of a higher-coupon bond\n",
    "\n",
    "longer term is more volatile than the price of a short term bond \n",
    "\n",
    "low-coupon that is priced at a discount to par value \n",
    "\n",
    "pulled to par as maturity nears \n",
    "\n",
    "spot rate is the YTM on a zero coupon bond \n",
    "\n",
    "yiled to maturity can be approximated as a weighted average of the underlying spot rates\n",
    "\n",
    "market rate > coupon, bond will be a discount bond\n",
    "market rate < coupon, bond wil be a premium bond\n",
    "\n",
    "a yield quoted on a semiannual bond basis is an annual rate for a periodicity of two, yiled per semiannual period times two. \n",
    "\n",
    "The general rule for periodicity conversions is that compounding is more frequently at a lower annual rate corresponds to compounding less frequently at a higher annual rate. \n",
    "\n",
    "Street convention yields assume payments are made on scheduled date, neglecting weekends and holidays. \n",
    "\n",
    "The current yield is the annual coupon payment divided by the flat price, thereby neglecting as a measure of the investor's rate of return the time value of money, any accrued interest and the gain from buying at a discount and the loss from buying at a premium. "
   ]
  },
  {
   "cell_type": "markdown",
   "metadata": {},
   "source": [
    "#### Pricing Bonds with Spot rates \n",
    "Fixed rate bond is priced using the market discount rate, the same discount rate is used for each cash flow \n",
    "\n",
    "A more fundamental approach to calculate the price of a bond is to use a sequence of market discount rates that correspond to the cash flow date \n",
    "\n",
    "These market discount rates are called spot rates, Spot rates are YTM on zero-coupon bonds maturing at the date of each cash flow. "
   ]
  },
  {
   "cell_type": "markdown",
   "metadata": {},
   "source": [
    "If a bond's price determined using spot rates is sometimes referred to as the bond's no arb value, if a bond's price differs from its no-arbitrage value an arbitrage opportunity exists in the absense of transaction costs. \n",
    "\n",
    "PV(full) = PV(flat) + Accrued Interest \n",
    "\n",
    "\n",
    "Normally quote the flat price. Avoid misleading investors about the market price trend for the bond. The accrued interest would drop dramatically when a coupon payment occurs. \n",
    "\n"
   ]
  }
 ],
 "metadata": {
  "anaconda-cloud": {},
  "kernelspec": {
   "display_name": "Python [default]",
   "language": "python",
   "name": "python3"
  },
  "language_info": {
   "codemirror_mode": {
    "name": "ipython",
    "version": 3
   },
   "file_extension": ".py",
   "mimetype": "text/x-python",
   "name": "python",
   "nbconvert_exporter": "python",
   "pygments_lexer": "ipython3",
   "version": "3.5.2"
  }
 },
 "nbformat": 4,
 "nbformat_minor": 1
}

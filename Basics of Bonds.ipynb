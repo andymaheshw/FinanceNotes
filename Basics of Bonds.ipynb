{
 "cells": [
  {
   "cell_type": "markdown",
   "metadata": {},
   "source": [
    "### Types of Bonds"
   ]
  },
  {
   "cell_type": "markdown",
   "metadata": {},
   "source": [
    "Tenor - time remaining until the bond's maturity"
   ]
  },
  {
   "cell_type": "markdown",
   "metadata": {},
   "source": [
    "#### Basic Definitions\n",
    "\n",
    "coupon rate - interest rate that issue agrees to pay\n",
    "\n",
    "plain vanilla bond - cash flow pattern, and a fixed rate of interest\n",
    "\n",
    "bonds can be issued in dual currencies \n",
    "\n",
    "yield to maturity is the discount rate that equates the present value of the future cash flows until maturity ot its price. YTM market expectation of the bond's return\n",
    "\n",
    "bond indenture or trust deed is the legal contract that describes the form of the bond, the issuer's obligations and the investor's rights. The indenture is usually held by a financila institution called a trustree which performs various duties specified in the indenture. \n",
    "\n",
    "The issuer is identified by its legal name and is obligated to make timely payments of interest. \n",
    "\n",
    "Repay the principal should be described in the indenture, the source of repayment proceeds varies. \n",
    "\n",
    "#### Managing Risk\n",
    "\n",
    "Collateral backing is a way to alleviate credit risk. \n",
    "\n",
    "\n"
   ]
  },
  {
   "cell_type": "code",
   "execution_count": null,
   "metadata": {
    "collapsed": true
   },
   "outputs": [],
   "source": []
  }
 ],
 "metadata": {
  "anaconda-cloud": {},
  "kernelspec": {
   "display_name": "Python [default]",
   "language": "python",
   "name": "python3"
  },
  "language_info": {
   "codemirror_mode": {
    "name": "ipython",
    "version": 3
   },
   "file_extension": ".py",
   "mimetype": "text/x-python",
   "name": "python",
   "nbconvert_exporter": "python",
   "pygments_lexer": "ipython3",
   "version": "3.5.2"
  }
 },
 "nbformat": 4,
 "nbformat_minor": 1
}

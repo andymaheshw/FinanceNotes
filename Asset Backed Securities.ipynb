{
 "cells": [
  {
   "cell_type": "markdown",
   "metadata": {},
   "source": [
    "securitization\n",
    "* tradeable securities \n",
    "* alternative means of funding operations\n",
    "* Risks - timing of securities. \n",
    "* how to securitize an asset\n",
    "    * \n",
    "\n",
    "parties involved in securitization\n",
    "\n",
    "credit and tranching and time tranching\n",
    "\n",
    "types of residential mortgage loans\n",
    "\n",
    "residential mortgaged-backed securities and cash flow of risks \n",
    "MBS\n",
    "CDOs"
   ]
  },
  {
   "cell_type": "markdown",
   "metadata": {},
   "source": [
    "depositior/servicer - seller of assets backing security\n",
    "\n",
    "RMBS - there is prepayment and expansion risk. \n",
    "\n",
    "### Mortgage Pass-through securities \n",
    "* contraction risk - refinance risk at lower rate \n",
    "* extension - draw out payments at lower interest rate \n",
    "* SMM - monthly measure single monthly mortality rate, Prepayment for the month/(Beginning outstanding mortage balance for the month - scheduled principal repayment for the month)\n",
    "* CPR - Conditional prepayment rate, \n",
    "\n",
    "### CMOs - Collateralized Mortgage Obligations\n",
    "* Sequential pay CMO - each tranch is paid off (Tranch A before B, etc). \n",
    "* Tranch A will attract people worried about expansion risk since they want their money fast \n",
    "* Tranch D will attract people with contraction risk\n",
    "* plan amortization class PAC - can't make prepayment risk disappear, support tranches take excess principal payment. \n",
    "\n",
    "### Non agency residential Mortgage-backed Securities \n",
    "* issue non-agency RMBS are typically thrift institutions and commercial bank. \n",
    "* same structuring techniques as CMOs, suboridination is a feature for credit enhancement, over-collateralization and reserve accounts. \n",
    "\n",
    "### CMBS - Commercial Mortgage Backed Securities \n",
    "* commercial loans\n",
    "* debt-service-coverage - property's annual net operating income/annual amount of interest payments and principal repayments\n",
    "* DSC Ratio = property's annual net operating income/ annual amount of interest payments and principal repayments \n",
    "* DSC Ratio > 1 is good for investors \n",
    "* Structural call protection - botn from prepayments as well as default (issuer cannot pay in advance\n",
    "* Loan level protection - prepayment lockout, penalty points, yield maintenance charge, Defeasance. \n",
    "    * prepayment lockout - can't pay for certain years \n",
    "    * penalty points - refinance causes additional addition on interest \n",
    "    * yield maintenance - make whole regardless of change. \n",
    "    * Defeasance - provision that voids a bond or loan when the borrower sets aside cash or bonds sufficient enough to service the borrower's debt. Borrower sets aside cash to pay off outstanding debt.\n",
    "* Balloon Maturity Provision - risk the borrower will not be able to make the balloon payment. \n",
    "* Investment grade is BBB- or better. \n",
    "\n",
    "### Non-mortgage asset backed securities \n",
    "* credit card receivables, personal loans, commercial loans, auto loans \n",
    "* "
   ]
  }
 ],
 "metadata": {
  "anaconda-cloud": {},
  "kernelspec": {
   "display_name": "Python [default]",
   "language": "python",
   "name": "python3"
  },
  "language_info": {
   "codemirror_mode": {
    "name": "ipython",
    "version": 3
   },
   "file_extension": ".py",
   "mimetype": "text/x-python",
   "name": "python",
   "nbconvert_exporter": "python",
   "pygments_lexer": "ipython3",
   "version": "3.5.2"
  }
 },
 "nbformat": 4,
 "nbformat_minor": 1
}
